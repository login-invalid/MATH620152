{
 "cells": [
  {
   "cell_type": "markdown",
   "metadata": {},
   "source": [
    "# Python 最优化算法\n",
    "\n",
    "* 需要提前配置 Gurobi 库\n",
    "* 因为需要更换环境，所以本报告单列\n",
    "\n",
    "Task-4 内容包括\n",
    "1. 入门级实例 : 线性规划问题实例(及非线性约束)\n",
    "2. 更多约束 : TSP问题求解"
   ]
  },
  {
   "cell_type": "code",
   "execution_count": 1,
   "metadata": {},
   "outputs": [],
   "source": [
    "from gurobipy import *\n",
    "import pandas as pd\n",
    "import numpy as np"
   ]
  },
  {
   "cell_type": "markdown",
   "metadata": {},
   "source": [
    "## 随意设置的线性规划问题实例"
   ]
  },
  {
   "cell_type": "code",
   "execution_count": 2,
   "metadata": {},
   "outputs": [
    {
     "data": {
      "text/html": [
       "<div>\n",
       "<style scoped>\n",
       "    .dataframe tbody tr th:only-of-type {\n",
       "        vertical-align: middle;\n",
       "    }\n",
       "\n",
       "    .dataframe tbody tr th {\n",
       "        vertical-align: top;\n",
       "    }\n",
       "\n",
       "    .dataframe thead th {\n",
       "        text-align: right;\n",
       "    }\n",
       "</style>\n",
       "<table border=\"1\" class=\"dataframe\">\n",
       "  <thead>\n",
       "    <tr style=\"text-align: right;\">\n",
       "      <th></th>\n",
       "      <th>dataset</th>\n",
       "      <th>tpm</th>\n",
       "      <th>tmm</th>\n",
       "    </tr>\n",
       "  </thead>\n",
       "  <tbody>\n",
       "    <tr>\n",
       "      <th>0</th>\n",
       "      <td>gtex_Adipose_Subcutaneous</td>\n",
       "      <td>0.133341</td>\n",
       "      <td>0.028823</td>\n",
       "    </tr>\n",
       "    <tr>\n",
       "      <th>1</th>\n",
       "      <td>gtex_Adipose_Visceral_Omentum</td>\n",
       "      <td>0.230250</td>\n",
       "      <td>0.040660</td>\n",
       "    </tr>\n",
       "    <tr>\n",
       "      <th>2</th>\n",
       "      <td>gtex_Adrenal_Gland</td>\n",
       "      <td>0.233416</td>\n",
       "      <td>0.054721</td>\n",
       "    </tr>\n",
       "    <tr>\n",
       "      <th>3</th>\n",
       "      <td>gtex_Artery_Aorta</td>\n",
       "      <td>0.080029</td>\n",
       "      <td>0.040266</td>\n",
       "    </tr>\n",
       "    <tr>\n",
       "      <th>4</th>\n",
       "      <td>gtex_Artery_Coronary</td>\n",
       "      <td>0.130536</td>\n",
       "      <td>0.036145</td>\n",
       "    </tr>\n",
       "  </tbody>\n",
       "</table>\n",
       "</div>"
      ],
      "text/plain": [
       "                         dataset       tpm       tmm\n",
       "0      gtex_Adipose_Subcutaneous  0.133341  0.028823\n",
       "1  gtex_Adipose_Visceral_Omentum  0.230250  0.040660\n",
       "2             gtex_Adrenal_Gland  0.233416  0.054721\n",
       "3              gtex_Artery_Aorta  0.080029  0.040266\n",
       "4           gtex_Artery_Coronary  0.130536  0.036145"
      ]
     },
     "execution_count": 2,
     "metadata": {},
     "output_type": "execute_result"
    }
   ],
   "source": [
    "# 加载数据\n",
    "data = pd.read_csv(\"./2022期末数据/11 (1).tsv\" , sep = \"\\t\")\n",
    "data.head()"
   ]
  },
  {
   "cell_type": "code",
   "execution_count": 3,
   "metadata": {},
   "outputs": [
    {
     "name": "stdout",
     "output_type": "stream",
     "text": [
      "Gurobi Optimizer version 9.5.2 build v9.5.2rc0 (mac64[rosetta2])\n",
      "Thread count: 8 physical cores, 8 logical processors, using up to 8 threads\n",
      "Optimize a model with 11 rows, 2 columns and 21 nonzeros\n",
      "Model fingerprint: 0x0ce9ea1c\n",
      "Coefficient statistics:\n",
      "  Matrix range     [1e-02, 1e+00]\n",
      "  Objective range  [1e+01, 2e+01]\n",
      "  Bounds range     [0e+00, 0e+00]\n",
      "  RHS range        [1e+00, 8e+01]\n",
      "Presolve removed 4 rows and 0 columns\n",
      "Presolve time: 0.00s\n",
      "Presolved: 7 rows, 2 columns, 14 nonzeros\n",
      "\n",
      "Iteration    Objective       Primal Inf.    Dual Inf.      Time\n",
      "       0    2.4594011e+03   2.420062e+01   0.000000e+00      0s\n",
      "       2    1.2817420e+03   0.000000e+00   0.000000e+00      0s\n",
      "\n",
      "Solved in 2 iterations and 0.01 seconds (0.00 work units)\n",
      "Optimal objective  1.281742021e+03\n"
     ]
    }
   ],
   "source": [
    "# 配置模型\n",
    "model = gurobipy.Model(\"LP Model\")\n",
    "\n",
    "# 定义自变量\n",
    "tpm = model.addVar(lb=0.0, ub = gurobipy.GRB.INFINITY, vtype=gurobipy.GRB.CONTINUOUS, name = \"tpm\")\n",
    "tmm = model.addVar(lb=0.0, ub = gurobipy.GRB.INFINITY, vtype=gurobipy.GRB.CONTINUOUS, name = \"tmm\")\n",
    "\n",
    "# 设置目标函数\n",
    "model.setObjective(20 * tpm + 10 * tmm, gurobipy.GRB.MAXIMIZE) # 最大化\n",
    "# 设置11个约束\n",
    "for i in range(5):\n",
    "    model.addConstr(float(data.iloc[i][['tpm']].values) * tpm + float(data.iloc[i][['tmm']].values) * tmm <= 10)\n",
    "    model.addConstr(float(data.iloc[i+5][['tpm']].values) * tpm + float(data.iloc[i+5][['tmm']].values) * tmm >= 1)\n",
    "model.addConstr(tmm <= 80)\n",
    "model.update()\n",
    "\n",
    "# 显示求解过程（套路代码）\n",
    "model.Params.LogToConsole = True\n",
    "# 开始优化求解\n",
    "model.optimize()"
   ]
  },
  {
   "cell_type": "code",
   "execution_count": 4,
   "metadata": {},
   "outputs": [
    {
     "name": "stdout",
     "output_type": "stream",
     "text": [
      "optimal objective value is 1281.7420207561472.\n",
      "tpm 24.0871\n",
      "tmm 80\n"
     ]
    }
   ],
   "source": [
    "print(f\"optimal objective value is {model.objVal}.\")\n",
    "# 查看变量取值\n",
    "for v in model.getVars():\n",
    "    print('%s %g' % (v.varName, v.x))"
   ]
  },
  {
   "cell_type": "markdown",
   "metadata": {},
   "source": [
    "非线性约束实例"
   ]
  },
  {
   "cell_type": "code",
   "execution_count": 5,
   "metadata": {},
   "outputs": [
    {
     "name": "stdout",
     "output_type": "stream",
     "text": [
      "Gurobi Optimizer version 9.5.2 build v9.5.2rc0 (mac64[rosetta2])\n",
      "Thread count: 8 physical cores, 8 logical processors, using up to 8 threads\n",
      "Optimize a model with 5 rows, 2 columns and 10 nonzeros\n",
      "Model fingerprint: 0xe06fe8d1\n",
      "Model has 5 quadratic constraints\n",
      "Coefficient statistics:\n",
      "  Matrix range     [1e-02, 6e-01]\n",
      "  QMatrix range    [3e-02, 2e-01]\n",
      "  Objective range  [1e+01, 2e+01]\n",
      "  Bounds range     [0e+00, 0e+00]\n",
      "  RHS range        [1e+00, 1e+00]\n",
      "  QRHS range       [1e+02, 1e+02]\n",
      "Presolve time: 0.00s\n",
      "Presolved: 20 rows, 15 columns, 33 nonzeros\n",
      "Presolved model has 5 second-order cone constraints\n",
      "Ordering time: 0.00s\n",
      "\n",
      "Barrier statistics:\n",
      " Dense cols : 1\n",
      " AA' NZ     : 1.080e+02\n",
      " Factor NZ  : 2.120e+02\n",
      " Factor Ops : 2.874e+03 (less than 1 second per iteration)\n",
      " Threads    : 1\n",
      "\n",
      "                  Objective                Residual\n",
      "Iter       Primal          Dual         Primal    Dual     Compl     Time\n",
      "   0   4.51761168e+01  4.51761168e+01  3.65e+00 1.78e+01  9.98e+01     0s\n",
      "   1   6.12453230e+02  4.63158429e+02  4.96e-01 4.23e+00  1.08e+01     0s\n",
      "   2   5.84479274e+02  6.13743821e+02  1.31e-13 1.77e-01  1.67e+00     0s\n",
      "   3   5.93564299e+02  5.97893273e+02  5.48e-12 1.71e-02  2.17e-01     0s\n",
      "   4   5.95030833e+02  5.95119092e+02  5.27e-12 1.92e-04  3.91e-03     0s\n",
      "   5   5.95071312e+02  5.95077300e+02  3.64e-11 2.11e-10  2.22e-04     0s\n",
      "   6   5.95073752e+02  5.95073834e+02  7.51e-11 2.50e-12  3.07e-06     0s\n",
      "   7   5.95073794e+02  5.95073795e+02  1.48e-09 2.84e-13  3.12e-08     0s\n",
      "\n",
      "Barrier solved model in 7 iterations and 0.02 seconds (0.00 work units)\n",
      "Optimal objective 5.95073794e+02\n",
      "\n"
     ]
    }
   ],
   "source": [
    "# 配置模型\n",
    "model = gurobipy.Model(\"Model 2\")\n",
    "\n",
    "# 定义自变量\n",
    "tpm = model.addVar(lb=0.0, ub = gurobipy.GRB.INFINITY, vtype=gurobipy.GRB.CONTINUOUS, name = \"tpm\")\n",
    "tmm = model.addVar(lb=0.0, ub = gurobipy.GRB.INFINITY, vtype=gurobipy.GRB.CONTINUOUS, name = \"tmm\")\n",
    "\n",
    "# 设置目标函数\n",
    "model.setObjective(20 * tpm + 10 * tmm, gurobipy.GRB.MAXIMIZE) # 最大化\n",
    "# 设置非线性约束\n",
    "for i in range(5):\n",
    "    model.addConstr(float(data.iloc[i][['tpm']].values) * tpm**2 + float(data.iloc[i][['tmm']].values) * tmm**2<= 100)\n",
    "    # f非线性约束中必须是整数幂 , float 类型会报错\n",
    "    model.addConstr(float(data.iloc[i+5][['tpm']].values) * tpm + float(data.iloc[i+5][['tmm']].values) * tmm >= 1)\n",
    "model.update()\n",
    "\n",
    "# 显示求解过程（套路代码）\n",
    "model.Params.LogToConsole = True\n",
    "# 开始优化求解\n",
    "model.optimize()"
   ]
  },
  {
   "cell_type": "code",
   "execution_count": 6,
   "metadata": {},
   "outputs": [
    {
     "name": "stdout",
     "output_type": "stream",
     "text": [
      "optimal objective value is 595.0737937549338.\n",
      "tpm 14.3987\n",
      "tmm 30.71\n"
     ]
    }
   ],
   "source": [
    "print(f\"optimal objective value is {model.objVal}.\")\n",
    "# 查看变量取值\n",
    "for v in model.getVars():\n",
    "    print('%s %g' % (v.varName, v.x))"
   ]
  },
  {
   "cell_type": "markdown",
   "metadata": {},
   "source": [
    "## 化为 TSP 问题"
   ]
  },
  {
   "cell_type": "code",
   "execution_count": 7,
   "metadata": {},
   "outputs": [],
   "source": [
    "# 设置要读取的城市数量\n",
    "city_num = 30\n",
    "\n",
    "coordinate = data.iloc[:city_num][['tpm','tmm']]\n",
    "coordinate = np.array(coordinate)\n",
    "\n",
    "# 计算城市之间的距离\n",
    "distance = np.zeros((city_num, city_num))\n",
    "for i in range(city_num):\n",
    "    for j in range(city_num):\n",
    "        if (i == j):\n",
    "            distance[i,j] = 10000\n",
    "        else:\n",
    "            distance[i,j] = np.sqrt(np.square(coordinate[i,0] - coordinate[j,0]) + np.square(coordinate[i,1]-coordinate[j,1]))"
   ]
  },
  {
   "cell_type": "code",
   "execution_count": 8,
   "metadata": {},
   "outputs": [
    {
     "name": "stdout",
     "output_type": "stream",
     "text": [
      "Set parameter TimeLimit to value 50\n",
      "Gurobi Optimizer version 9.5.2 build v9.5.2rc0 (mac64[rosetta2])\n",
      "Thread count: 8 physical cores, 8 logical processors, using up to 8 threads\n",
      "Optimize a model with 871 rows, 930 columns and 3423 nonzeros\n",
      "Model fingerprint: 0x7982bd32\n",
      "Variable types: 30 continuous, 900 integer (900 binary)\n",
      "Coefficient statistics:\n",
      "  Matrix range     [1e+00, 3e+01]\n",
      "  Objective range  [7e-03, 1e+04]\n",
      "  Bounds range     [1e+00, 1e+00]\n",
      "  RHS range        [1e+00, 3e+01]\n",
      "Found heuristic solution: objective 300000.00000\n",
      "Presolve removed 1 rows and 31 columns\n",
      "Presolve time: 0.00s\n",
      "Presolved: 870 rows, 899 columns, 3364 nonzeros\n",
      "Found heuristic solution: objective 290000.00784\n",
      "Variable types: 29 continuous, 870 integer (870 binary)\n",
      "\n",
      "Root relaxation: objective 9.334064e-01, 62 iterations, 0.00 seconds (0.00 work units)\n",
      "\n",
      "    Nodes    |    Current Node    |     Objective Bounds      |     Work\n",
      " Expl Unexpl |  Obj  Depth IntInf | Incumbent    BestBd   Gap | It/Node Time\n",
      "\n",
      "     0     0    0.93341    0   16 290000.008    0.93341   100%     -    0s\n",
      "H    0     0                    80000.781344    0.93341   100%     -    0s\n",
      "H    0     0                       2.5295855    0.93341  63.1%     -    0s\n",
      "     0     0    1.02870    0   24    2.52959    1.02870  59.3%     -    0s\n",
      "H    0     0                       1.8629361    1.02870  44.8%     -    0s\n",
      "H    0     0                       1.5687331    1.03864  33.8%     -    0s\n",
      "     0     0    1.03864    0   24    1.56873    1.03864  33.8%     -    0s\n",
      "     0     0    1.03864    0   24    1.56873    1.03864  33.8%     -    0s\n",
      "H    0     0                       1.4111121    1.03864  26.4%     -    0s\n",
      "     0     0    1.03864    0   24    1.41111    1.03864  26.4%     -    0s\n",
      "     0     0    1.03864    0   24    1.41111    1.03864  26.4%     -    0s\n",
      "     0     0    1.03864    0   24    1.41111    1.03864  26.4%     -    0s\n",
      "     0     0    1.03864    0   24    1.41111    1.03864  26.4%     -    0s\n",
      "     0     0    1.03864    0   16    1.41111    1.03864  26.4%     -    0s\n",
      "     0     0    1.03864    0   24    1.41111    1.03864  26.4%     -    0s\n",
      "     0     0    1.03864    0   24    1.41111    1.03864  26.4%     -    0s\n",
      "     0     0    1.03864    0   24    1.41111    1.03864  26.4%     -    0s\n",
      "H    0     0                       1.3422485    1.03864  22.6%     -    0s\n",
      "     0     0    1.03864    0   24    1.34225    1.03864  22.6%     -    0s\n",
      "     0     0    1.03864    0   24    1.34225    1.03864  22.6%     -    0s\n",
      "     0     0    1.03864    0   24    1.34225    1.03864  22.6%     -    0s\n",
      "     0     0    1.03864    0   24    1.34225    1.03864  22.6%     -    0s\n",
      "     0     0    1.03864    0   24    1.34225    1.03864  22.6%     -    0s\n",
      "     0     0    1.03864    0   16    1.34225    1.03864  22.6%     -    0s\n",
      "     0     0    1.03864    0   24    1.34225    1.03864  22.6%     -    0s\n",
      "     0     0    1.03864    0   24    1.34225    1.03864  22.6%     -    0s\n",
      "     0     0    1.03864    0   24    1.34225    1.03864  22.6%     -    0s\n",
      "H    0     0                       1.3210361    1.03864  21.4%     -    0s\n",
      "     0     0    1.03864    0   24    1.32104    1.03864  21.4%     -    0s\n",
      "     0     0    1.03864    0   24    1.32104    1.03864  21.4%     -    0s\n",
      "     0     0    1.03864    0   24    1.32104    1.03864  21.4%     -    0s\n",
      "     0     0    1.03864    0   24    1.32104    1.03864  21.4%     -    0s\n",
      "     0     0    1.03868    0   20    1.32104    1.03868  21.4%     -    0s\n",
      "     0     0    1.03898    0   18    1.32104    1.03898  21.4%     -    0s\n",
      "     0     0    1.03898    0   18    1.32104    1.03898  21.4%     -    0s\n",
      "     0     0    1.03898    0   18    1.32104    1.03898  21.4%     -    0s\n",
      "     0     0    1.03898    0   18    1.32104    1.03898  21.4%     -    0s\n",
      "     0     0    1.03898    0   18    1.32104    1.03898  21.4%     -    0s\n",
      "     0     2    1.03898    0   18    1.32104    1.03898  21.4%     -    0s\n",
      "H   31    38                       1.3035042    1.04028  20.2%   5.4    0s\n",
      "H   33    38                       1.2946461    1.04028  19.6%   5.2    0s\n",
      "H  591   497                       1.2722694    1.04236  18.1%   2.9    0s\n",
      "H  654   497                       1.2179791    1.04236  14.4%   3.1    0s\n",
      "* 1243   784              19       1.1871821    1.05507  11.1%   3.1    0s\n",
      "H 1793   949                       1.1695208    1.05613  9.70%   3.2    1s\n",
      "H 2079   974                       1.1572302    1.05613  8.74%   3.3    1s\n",
      "H 2147   949                       1.1537143    1.05613  8.46%   3.3    1s\n",
      "H 2154   906                       1.1508099    1.05613  8.23%   3.3    1s\n",
      "H 2235   892                       1.1451772    1.05613  7.78%   3.3    1s\n",
      "H 5479  1701                       1.1422728    1.07310  6.06%   3.6    1s\n",
      "H 5482  1649                       1.1389970    1.07310  5.79%   3.6    1s\n",
      "*14741  4222              27       1.1363394    1.08980  4.10%   4.1    2s\n",
      "H28918  6604                       1.1360926    1.10532  2.71%   4.4    2s\n",
      " 65470  7133 infeasible   26         1.13609    1.12166  1.27%   4.9    5s\n",
      "\n",
      "Cutting planes:\n",
      "  Learned: 33\n",
      "  Gomory: 14\n",
      "  Cover: 1\n",
      "  MIR: 14\n",
      "  Flow cover: 69\n",
      "  Inf proof: 136\n",
      "\n",
      "Explored 87898 nodes (462518 simplex iterations) in 6.07 seconds (7.66 work units)\n",
      "Thread count was 8 (of 8 available processors)\n",
      "\n",
      "Solution count 10: 1.13609 1.13609 1.13634 ... 1.16952\n",
      "\n",
      "Optimal solution found (tolerance 1.00e-04)\n",
      "Best objective 1.136092581758e+00, best bound 1.136092581758e+00, gap 0.0000%\n"
     ]
    }
   ],
   "source": [
    "model = gurobipy.Model('TSP')\n",
    "\n",
    "x = model.addVars(city_num, city_num, vtype = gurobipy.GRB.BINARY, name = 'x')\n",
    "utility = model.addVars(city_num, lb = 0, vtype = gurobipy.GRB.CONTINUOUS, name = 'utility')\n",
    "\n",
    "model.setObjective(sum(x[i,j] * distance[i,j] for i in range(city_num) for j in range(city_num)), GRB.MINIMIZE)\n",
    "\n",
    "# 设置约束\n",
    "for j in range(city_num):    \n",
    "    model.addConstr(gurobipy.quicksum(x[i,j] for i in range(city_num)) == 1)\n",
    "for i in range(city_num):\n",
    "    for j in range(1, city_num):\n",
    "        if (i != j):\n",
    "            model.addConstr(utility[i] - utility[j] + city_num * x[i,j] <= city_num - 1)\n",
    "model.update()\n",
    "\n",
    "# 显示求解过程\n",
    "model.Params.LogToConsole = True\n",
    "# 限制求解时间\n",
    "model.Params.TimeLimit =50\n",
    "# 开始优化求解\n",
    "model.optimize()"
   ]
  },
  {
   "cell_type": "code",
   "execution_count": 9,
   "metadata": {},
   "outputs": [
    {
     "name": "stdout",
     "output_type": "stream",
     "text": [
      "optimal objective value is 1.136092581758076.\n",
      "1 -> 5 -> 26 -> 7 -> 30 -> 25 -> 28 -> 29 -> 2 -> 22 -> 3 -> 4 -> 6 -> 21 -> 23 -> 27 -> 12 -> 24 -> 11 -> 13 -> 14 -> 8 -> 9 -> 10 -> 20 -> 16 -> 17 -> 15 -> 18 -> 19 -> 1\n"
     ]
    }
   ],
   "source": [
    "print(f\"optimal objective value is {model.objVal}.\")\n",
    "\n",
    "# 将结果输出成路径\n",
    "u_value = []\n",
    "for i in range(city_num):\n",
    "    u_value.append(utility[i].x) # 加载 utility[i] 的值\n",
    "sequence = sorted(enumerate(u_value), key = lambda y:y[1]) # 按照 utility 值排序\n",
    "for item in sequence:\n",
    "    print(item[0] + 1,'->',end=' ')\n",
    "print(1)"
   ]
  }
 ],
 "metadata": {
  "kernelspec": {
   "display_name": "Python 3.7.13 ('gurobi')",
   "language": "python",
   "name": "python3"
  },
  "language_info": {
   "codemirror_mode": {
    "name": "ipython",
    "version": 3
   },
   "file_extension": ".py",
   "mimetype": "text/x-python",
   "name": "python",
   "nbconvert_exporter": "python",
   "pygments_lexer": "ipython3",
   "version": "3.7.13"
  },
  "orig_nbformat": 4,
  "vscode": {
   "interpreter": {
    "hash": "7d2bce332830eac7d1525af15871b1c6b0cdf53296869080568719b30976a372"
   }
  }
 },
 "nbformat": 4,
 "nbformat_minor": 2
}
